{
  "cells": [
    {
      "cell_type": "markdown",
      "metadata": {
        "id": "FNHwBGogoeio"
      },
      "source": [
        "# 2. Programs in a file, variables and strings\n",
        "## 2.1 Introduction\n",
        "Well, we can make one-liner programs. So What? You want to send programs to other people, so that they can use them, without knowing how to write them.\n",
        "## 2.2 Writing scripts\n",
        "Writing programs in Python to a file is VERY easy. Python programs are simply text documents - you can open them up in notepad, and have a look at them, just like that.\n",
        "In practice, however, you will use a so called __[Integrated Development Environment (IDE)](https://en.wikipedia.org/wiki/Integrated_development_environment)__ to develop your scripts.\n",
        "\n",
        "In this tutorial we'll use the Jupyter Notebook interactive fields as an IDE. After the tutorial we can begin to use other IDEs if we would like.\n",
        "\n",
        "In this course though, the main IDE will be the Python3 environment installed on your Raspberry Pi.\n",
        "\n",
        "Have a look at the program (`mary.py`) below:"
      ]
    },
    {
      "cell_type": "code",
      "execution_count": null,
      "metadata": {
        "id": "ry_XHxmyoeip",
        "outputId": "3762e6ff-a340-452d-bf0f-931d44c41325",
        "colab": {
          "base_uri": "https://localhost:8080/"
        }
      },
      "outputs": [
        {
          "output_type": "stream",
          "name": "stdout",
          "text": [
            "Mary had a little lamb\n",
            "it's fleece was white as snow;\n",
            "and everywhere that Mary went her lamb was sure to go.\n"
          ]
        }
      ],
      "source": [
        "#A simple program.\n",
        "print(\"Mary had a little lamb\")\n",
        "print(\"it's fleece was white as snow;\")\n",
        "print(\"and everywhere that Mary went\", end = \" \")\n",
        "print(\"her lamb was sure to go.\")"
      ]
    },
    {
      "cell_type": "markdown",
      "metadata": {
        "id": "54hCTtsCoeip"
      },
      "source": [
        "If you run the script (`<shift> + <Return>`) it will execute lines 1 to 5 after each other. In an IDE there's always a screen where you can type the code with syntax highlighting (like here), a window where you can see the output and a button to run the script. The scripts are saved as `.py` files. These can be run from your command line - Open the terminal window, go to the folder and then type `Python mary.py`. Your program will now execute in the command line.\n",
        "\n",
        "In line 4 `end = \" \"` inserts a space instead of a new line at the end of the `print` operator."
      ]
    },
    {
      "cell_type": "markdown",
      "metadata": {
        "id": "EJ6sfQvwoeiq"
      },
      "source": [
        "## 2.3 Variables\n",
        "Now let's start introducing variables. Variables store a value, that can be looked at or changed at a later time. Let's make a program that uses variables:"
      ]
    },
    {
      "cell_type": "code",
      "execution_count": null,
      "metadata": {
        "id": "rgZNdEaAoeiq",
        "outputId": "936f00e6-7fa0-4ac0-b277-7572db394f45",
        "colab": {
          "base_uri": "https://localhost:8080/"
        }
      },
      "outputs": [
        {
          "output_type": "stream",
          "name": "stdout",
          "text": [
            "This program is a demo of variables\n",
            "The value of v is now 1\n",
            "v now equals itself plus one, making it worth 2\n",
            "v can store any numerical value, to be used elsewhere.\n",
            "for example, in a sentence. v is now worth 51\n",
            "v times 5 equals 255\n",
            "but v still only remains 51\n",
            "to make v five times bigger, you would have to type v = v * 5\n",
            "there you go, now v equals 255 and not 51.0\n"
          ]
        }
      ],
      "source": [
        "#variables demonstrated\n",
        "print(\"This program is a demo of variables\")\n",
        "v = 1\n",
        "print(\"The value of v is now\", v)\n",
        "v = v + 1\n",
        "print(\"v now equals itself plus one, making it worth\", v)\n",
        "v = 51\n",
        "print(\"v can store any numerical value, to be used elsewhere.\")\n",
        "print(\"for example, in a sentence. v is now worth\", v)\n",
        "print(\"v times 5 equals\", v * 5)\n",
        "print(\"but v still only remains\", v)\n",
        "print(\"to make v five times bigger, you would have to type v = v * 5\")\n",
        "v = v * 5\n",
        "print(\"there you go, now v equals\", v, \"and not\", v / 5)"
      ]
    },
    {
      "cell_type": "markdown",
      "metadata": {
        "id": "k7jd2Y7Moeiq"
      },
      "source": [
        "Run the script and try to understand the results."
      ]
    },
    {
      "cell_type": "markdown",
      "metadata": {
        "id": "H_a-uOzyoeir"
      },
      "source": [
        "Note that we can also write `v = v + 1` as `v += 1`. This can be used for all operators (e.g. `-=`, `*=`,`/=`). Try it in the code above.\n",
        "\n",
        "It is good practice to use lowercase or camelCase for variables. Don't use special characters and don't start with a number!"
      ]
    },
    {
      "cell_type": "markdown",
      "metadata": {
        "id": "-Emzp3X5oeir"
      },
      "source": [
        "## 2.5 Strings\n",
        "As you can see, variables store values, for use at a later time. You can change them at any time. You can put in more than numbers, though. Variables can hold things like text. A variable that holds text is called a string. Try this program:"
      ]
    },
    {
      "cell_type": "code",
      "execution_count": null,
      "metadata": {
        "id": "4n6XkZKaoeir",
        "outputId": "7173f41a-cc07-403e-f0a9-77cb8753ae9e",
        "colab": {
          "base_uri": "https://localhost:8080/"
        }
      },
      "outputs": [
        {
          "output_type": "stream",
          "name": "stdout",
          "text": [
            "Good morning\n",
            "Good morning to you too!\n"
          ]
        }
      ],
      "source": [
        "#giving variables text, and adding text.\n",
        "word1 = \"Good\"\n",
        "word2 = \"morning\"\n",
        "word3 = \"to you too!\"\n",
        "print(word1, word2)\n",
        "sentence = word1 + \" \" + word2 + \" \" + word3\n",
        "print(sentence)"
      ]
    },
    {
      "cell_type": "markdown",
      "metadata": {
        "id": "A-SUI90Qoeir"
      },
      "source": [
        "As you see, the variables above were holding text. Variable names can also be longer than one letter - here, we had `word1`, `word2`, and `word3`. As you can also see, strings can be added together to make longer words or sentences. However, it doesn't add spaces in between the words - hence me putting in the `\" \"` things (there is one space between those).\n",
        "\n",
        "Often we need to manipulate strings. For example if we want to edit file names or make selections from text. Strings are similar to `lists` that you will learn later. So similar operations (called *list slicing*) apply to strings.\n",
        "\n",
        "Try the following code and explain what it does:"
      ]
    },
    {
      "cell_type": "code",
      "execution_count": null,
      "metadata": {
        "id": "ON9Sssdroeis",
        "outputId": "8283c774-cf41-4b51-bd11-29324bfbce25",
        "colab": {
          "base_uri": "https://localhost:8080/"
        }
      },
      "outputs": [
        {
          "output_type": "execute_result",
          "data": {
            "text/plain": [
              "10"
            ]
          },
          "metadata": {},
          "execution_count": 37
        }
      ],
      "source": [
        "text = \"abcdefghij\"\n",
        "len(text)"
      ]
    },
    {
      "cell_type": "markdown",
      "metadata": {
        "id": "Km0peYeloeis"
      },
      "source": [
        "Yes, it shows us the amount of characters in a string.\n",
        "\n",
        "Now try this:"
      ]
    },
    {
      "cell_type": "code",
      "execution_count": null,
      "metadata": {
        "id": "p2yeQPq7oeis",
        "outputId": "d8a236c4-7eb4-4748-db79-0edbf9269c74",
        "colab": {
          "base_uri": "https://localhost:8080/"
        }
      },
      "outputs": [
        {
          "output_type": "stream",
          "name": "stdout",
          "text": [
            "e\n"
          ]
        }
      ],
      "source": [
        "print(text[4])"
      ]
    },
    {
      "cell_type": "markdown",
      "metadata": {
        "id": "CffIg_oYoeis"
      },
      "source": [
        "Here we want to print the character at position 4. Note that the first character \"a\" is at position 0! So position 4 gives us back \"e\".\n",
        "\n",
        "Now try:"
      ]
    },
    {
      "cell_type": "code",
      "execution_count": null,
      "metadata": {
        "id": "h5TRslqYoeis",
        "outputId": "26b6e28c-51a5-4bbb-f24f-eb8b9c4890b6",
        "colab": {
          "base_uri": "https://localhost:8080/"
        }
      },
      "outputs": [
        {
          "output_type": "stream",
          "name": "stdout",
          "text": [
            "abcd\n"
          ]
        }
      ],
      "source": [
        "print(text[:4])"
      ]
    },
    {
      "cell_type": "code",
      "execution_count": null,
      "metadata": {
        "id": "HjZPTMiloeis",
        "outputId": "7636b34e-c8bd-44be-ad05-18853f15903c",
        "colab": {
          "base_uri": "https://localhost:8080/"
        }
      },
      "outputs": [
        {
          "output_type": "stream",
          "name": "stdout",
          "text": [
            "efghij\n"
          ]
        }
      ],
      "source": [
        "print(text[4:])"
      ]
    },
    {
      "cell_type": "markdown",
      "metadata": {
        "id": "o51ryVC9oeis"
      },
      "source": [
        "Here you see that `[:4]` selects characters 0,1,2,3, which is \"abcd\". With `[4:]` we start with position 4 (counting from 0!) until the end of the string, which results in \"efghij\".\n",
        "\n",
        "We can also specify a range. Try this:"
      ]
    },
    {
      "cell_type": "code",
      "execution_count": null,
      "metadata": {
        "id": "0axWYo6foeis",
        "outputId": "b6bb16e1-9f51-47d4-bc5f-e776550097ba",
        "colab": {
          "base_uri": "https://localhost:8080/"
        }
      },
      "outputs": [
        {
          "output_type": "stream",
          "name": "stdout",
          "text": [
            "efgh\n"
          ]
        }
      ],
      "source": [
        "print(text[4:8])"
      ]
    },
    {
      "cell_type": "markdown",
      "metadata": {
        "id": "mr8PsnfMoeit"
      },
      "source": [
        "Was it what you expected?\n",
        "With ranges, the maximum value is not included in the selection.\n",
        "\n",
        "We still have the variable `sentence` available. Write code below to select the second word of the sentence using the correct range."
      ]
    },
    {
      "cell_type": "code",
      "execution_count": null,
      "metadata": {
        "id": "fP0fjfB-oeit",
        "outputId": "addb1d18-b50a-4ede-c6fc-95d992c0efb6",
        "colab": {
          "base_uri": "https://localhost:8080/"
        }
      },
      "outputs": [
        {
          "output_type": "stream",
          "name": "stdout",
          "text": [
            "morning\n"
          ]
        }
      ],
      "source": [
        "print (sentence [5:12])"
      ]
    },
    {
      "cell_type": "markdown",
      "metadata": {
        "id": "QMehBnmSoeit"
      },
      "source": [
        "Now try this:"
      ]
    },
    {
      "cell_type": "code",
      "execution_count": null,
      "metadata": {
        "id": "zfR25FfLoeit",
        "outputId": "557e516d-108c-4320-97b2-f7709b94ba6b",
        "colab": {
          "base_uri": "https://localhost:8080/"
        }
      },
      "outputs": [
        {
          "output_type": "stream",
          "name": "stdout",
          "text": [
            "i\n"
          ]
        }
      ],
      "source": [
        "print(text[-2])"
      ]
    },
    {
      "cell_type": "markdown",
      "metadata": {
        "id": "HjNn3YWwoeit"
      },
      "source": [
        "What did it do?\n",
        "\n",
        "Right, you have selected the second character from the right! Note that here we start counting with -1 for the first character on the right.\n",
        "\n",
        "Try this:"
      ]
    },
    {
      "cell_type": "code",
      "execution_count": null,
      "metadata": {
        "id": "uiS5kZ-Boeit",
        "outputId": "48808d9d-1433-451a-a0f3-f594283c6479",
        "colab": {
          "base_uri": "https://localhost:8080/"
        }
      },
      "outputs": [
        {
          "output_type": "stream",
          "name": "stdout",
          "text": [
            "hij\n"
          ]
        }
      ],
      "source": [
        "print(text[-3:])"
      ]
    },
    {
      "cell_type": "markdown",
      "metadata": {
        "id": "NT3fFJt-oeit"
      },
      "source": [
        "In human language: start with the 4th character from the right and give me all characters from that position to the end of the string.\n",
        "\n",
        "Now try this and find out what it does:"
      ]
    },
    {
      "cell_type": "code",
      "execution_count": null,
      "metadata": {
        "id": "K47nPeNyoeit",
        "outputId": "b00fef35-071d-418e-e276-4882b164f505",
        "colab": {
          "base_uri": "https://localhost:8080/"
        }
      },
      "outputs": [
        {
          "output_type": "stream",
          "name": "stdout",
          "text": [
            "acegi\n"
          ]
        }
      ],
      "source": [
        "print(text[::2])"
      ]
    },
    {
      "cell_type": "markdown",
      "metadata": {
        "id": "u4qAFsNVoeiu"
      },
      "source": [
        "We can also add the results of the *list slicing* to variables and insert this into strings using the format operation:"
      ]
    },
    {
      "cell_type": "code",
      "execution_count": null,
      "metadata": {
        "id": "hqtaRzfjoeiu",
        "outputId": "20a7c7e7-43cb-4db1-e11c-7f30fe14369c",
        "colab": {
          "base_uri": "https://localhost:8080/"
        }
      },
      "outputs": [
        {
          "output_type": "stream",
          "name": "stdout",
          "text": [
            "The sentence has 24 characters and the last word is: too\n"
          ]
        }
      ],
      "source": [
        "nrOfCharacters = len(sentence)\n",
        "lastWord = sentence[-4:-1]\n",
        "print(\"The sentence has {} characters and the last word is: {}\".format(nrOfCharacters,lastWord))"
      ]
    },
    {
      "cell_type": "markdown",
      "metadata": {
        "id": "lvZNwA4Toeiu"
      },
      "source": [
        "So you can easily insert variables at the places of the accolades (`{}`). They will be substituted in the same order of the variables in `.format()`"
      ]
    },
    {
      "cell_type": "markdown",
      "metadata": {
        "id": "0kk1uzzzoeiu"
      },
      "source": [
        "This can also be written as:"
      ]
    },
    {
      "cell_type": "code",
      "execution_count": null,
      "metadata": {
        "id": "aH7lsXkUoeiu",
        "outputId": "acbf8cb0-7a92-495b-e805-b2451c147bf6",
        "colab": {
          "base_uri": "https://localhost:8080/"
        }
      },
      "outputs": [
        {
          "output_type": "stream",
          "name": "stdout",
          "text": [
            "The sentence has 24 characters and the last word is: too\n"
          ]
        }
      ],
      "source": [
        "print(f\"The sentence has {nrOfCharacters} characters and the last word is: {lastWord}\")"
      ]
    },
    {
      "cell_type": "markdown",
      "metadata": {
        "id": "CcP4RP_qoeiu"
      },
      "source": [
        "Besides *list slicing* there are also other operations that we can apply to strings.\n",
        "We can count the number of occurences of a specific character in a string:"
      ]
    },
    {
      "cell_type": "code",
      "execution_count": null,
      "metadata": {
        "id": "-B_mH0Uooeiu",
        "outputId": "02242729-82a4-4f30-b0b1-ffab715402b5",
        "colab": {
          "base_uri": "https://localhost:8080/"
        }
      },
      "outputs": [
        {
          "output_type": "stream",
          "name": "stdout",
          "text": [
            "7\n"
          ]
        }
      ],
      "source": [
        "print(sentence.count('o'))"
      ]
    },
    {
      "cell_type": "markdown",
      "metadata": {
        "id": "coBRvgF7oeiu"
      },
      "source": [
        "We can also find the position of character:"
      ]
    },
    {
      "cell_type": "code",
      "execution_count": null,
      "metadata": {
        "id": "LKidadJLoeiv",
        "outputId": "ccaff6e8-b1ea-4f84-c7c5-1970899d0e4d",
        "colab": {
          "base_uri": "https://localhost:8080/"
        }
      },
      "outputs": [
        {
          "output_type": "stream",
          "name": "stdout",
          "text": [
            "4\n"
          ]
        }
      ],
      "source": [
        "print(text.find('e'))"
      ]
    },
    {
      "cell_type": "code",
      "execution_count": null,
      "metadata": {
        "id": "Fdp7fIe4oeiv",
        "outputId": "cefece2f-c94c-4102-d136-fd7ff518050f",
        "colab": {
          "base_uri": "https://localhost:8080/"
        }
      },
      "outputs": [
        {
          "output_type": "stream",
          "name": "stdout",
          "text": [
            "17\n"
          ]
        }
      ],
      "source": [
        "sometext = \"Hey you, how are you doing?\"\n",
        "print(sometext.rfind(\"you\"))"
      ]
    },
    {
      "cell_type": "markdown",
      "metadata": {
        "id": "ahWRmcdOoeiv"
      },
      "source": [
        "`rfind` returns the lasts occurance of a string. So in `sometext` we have the word \"you\" twice. `rfind` returns `17` meaning that the last time that it found \"you\" is starting at position 17 (counting from 0).\n",
        "\n",
        "There are a few other useful string operations. Run the code below and will be obvious what it does:"
      ]
    },
    {
      "cell_type": "code",
      "execution_count": null,
      "metadata": {
        "id": "kuxwUBeLoeiv",
        "outputId": "4f493de0-c45c-4a86-ab61-5e7c0529a6cd",
        "colab": {
          "base_uri": "https://localhost:8080/"
        }
      },
      "outputs": [
        {
          "output_type": "stream",
          "name": "stdout",
          "text": [
            "HEY YOU, HOW ARE YOU DOING?\n",
            "['Hey you', ' how are you doing?']\n",
            "Hey you, how are you doing!\n"
          ]
        }
      ],
      "source": [
        "# Changes the string to upper case\n",
        "print(sometext.upper())\n",
        "\n",
        "# Splits the string on a character and returns it as list items. You'll learn about lists later\n",
        "print(sometext.split(\",\"))\n",
        "\n",
        "# Replaces strings\n",
        "print(sometext.replace(\"?\",\"!\"))"
      ]
    },
    {
      "cell_type": "markdown",
      "metadata": {
        "id": "NG3qOyO2oeiv"
      },
      "source": [
        "There are also some special characters:\n",
        "\n",
        "`\\n` jumps to a new line\n",
        "\n",
        "`\\` is an escape character. You can put it before another character that has a meaning in the code and is not considered a string. This is often used to have strings with backslashes for file names on Windows (e.g. `\"C:\\\\folder\\\\filename.txt\"`). Because `\\` is already an escape character we need to use it twice to escape the escape character!\n",
        "\n",
        "Examples:"
      ]
    },
    {
      "cell_type": "code",
      "execution_count": null,
      "metadata": {
        "id": "9Wmoh4wNoeiv",
        "outputId": "36c071a8-1595-40ab-cd58-08f37a7f3746",
        "colab": {
          "base_uri": "https://localhost:8080/"
        }
      },
      "outputs": [
        {
          "output_type": "stream",
          "name": "stdout",
          "text": [
            "This is a very long sentence and I want to split it into two lines.\n",
            "This is a very long sentence\n",
            "and I want to split it into two lines.\n",
            "This sentence contains a quote and I don't want the string to end (yet)\"\n"
          ]
        }
      ],
      "source": [
        "print(\"This is a very long sentence and I want to split it into two lines.\")\n",
        "print(\"This is a very long sentence\\nand I want to split it into two lines.\")\n",
        "\n",
        "print(\"This sentence contains a quote and I don't want the string to end (yet)\\\"\")"
      ]
    },
    {
      "cell_type": "markdown",
      "metadata": {
        "id": "ahiMbeWNoeiv"
      },
      "source": [
        "## 2.6 Conclusion\n",
        "Well done! We now understand longer programs, and know the use of variables. We can also manipulate strings. Next lesson, we look at loops, what they are, and how to use them."
      ]
    },
    {
      "cell_type": "markdown",
      "source": [
        "I learned about different data types including string, integer etc as well as the syntax of python. furthermore, I learned how to store values or text inside a variable and how we can use that variable to perform further tasks or calculations.I learned in detail about Strings and Valuables and alos using some specific keywords to perform tasks like len to get the lenght of the text inside the variable.\n"
      ],
      "metadata": {
        "id": "MoZKBJYltOyz"
      }
    },
    {
      "cell_type": "code",
      "source": [
        "sentence = \"He is a good boy\"\n",
        "length = len(sentence)\n",
        "print(\"The first word of the sentence is\", sentence[:1],\"and the last word of the sentence is\", sentence[7:], \"The length of this sentence is\", length)"
      ],
      "metadata": {
        "colab": {
          "base_uri": "https://localhost:8080/"
        },
        "id": "kyCYrr2Miche",
        "outputId": "3747e30f-0115-47e2-f464-7d30cbd6bb20"
      },
      "execution_count": 3,
      "outputs": [
        {
          "output_type": "stream",
          "name": "stdout",
          "text": [
            "The first word of the sentence is H and the last word of the sentence is  good boy The length of this sentence is 16\n"
          ]
        }
      ]
    }
  ],
  "metadata": {
    "kernelspec": {
      "display_name": "Python 3",
      "language": "python",
      "name": "python3"
    },
    "language_info": {
      "codemirror_mode": {
        "name": "ipython",
        "version": 3
      },
      "file_extension": ".py",
      "mimetype": "text/x-python",
      "name": "python",
      "nbconvert_exporter": "python",
      "pygments_lexer": "ipython3",
      "version": "3.6.5"
    },
    "colab": {
      "provenance": []
    }
  },
  "nbformat": 4,
  "nbformat_minor": 0
}